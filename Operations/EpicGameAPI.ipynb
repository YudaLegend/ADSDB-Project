{
 "cells": [
  {
   "cell_type": "markdown",
   "metadata": {},
   "source": [
    "# Epic Games API"
   ]
  },
  {
   "cell_type": "code",
   "execution_count": 5,
   "metadata": {},
   "outputs": [
    {
     "name": "stdout",
     "output_type": "stream",
     "text": [
      "Iteration 1\n",
      "Iteration 2\n",
      "Iteration 3\n"
     ]
    }
   ],
   "source": [
    "from epicstore_api import EpicGamesStoreAPI\n",
    "import time\n",
    "import os\n",
    "import json\n",
    "\n",
    "\n",
    "def save_json(filename, data, data_dir):\n",
    "    file_path = os.path.join(data_dir, filename)\n",
    "    with open(file_path, 'w') as f:\n",
    "        json.dump(data, f, indent=4)\n",
    "\n",
    "current_dir = os.getcwd()\n",
    "operations_dir = os.path.dirname(current_dir)\n",
    "data_dir = os.path.join(operations_dir, 'Data Management')\n",
    "\n",
    "# Initialize the API client\n",
    "api = EpicGamesStoreAPI()\n",
    "\n",
    "epic_games_api_v1, epic_games_api_v2 = {}, {}\n",
    "\n",
    "\n",
    "# Fetch the list of games (this will include free and paid games)\n",
    "def fetch_games(version, start_i, iteration):\n",
    "\n",
    "    for i in range(start_i, start_i+iteration):\n",
    "        print(f\"Iteration {i+1}\")\n",
    "        # Fetch the store games\n",
    "        response = api.fetch_store_games(count=1000, product_type='games', start=i*1000)\n",
    "        # print(response['data']['Catalog']['searchStore']['elements'])\n",
    "        if response:\n",
    "            if version == 1: epic_games_api_v1[i] = response\n",
    "            else: epic_games_api_v2[i] = response\n",
    "        else:\n",
    "            print(\"Failed to fetch games.\")\n",
    "\n",
    "        time.sleep(1)\n",
    "\n",
    "# Call the function to fetch and display games\n",
    "fetch_games(1, 0, iteration=50)\n",
    "fetch_games(2, 50, iteration=50)\n",
    "\n",
    "save_json('epic_games_api_data_v1.json', epic_games_api_v1, data_dir)\n",
    "save_json('epic_games_api_data_v2.json', epic_games_api_v2, data_dir)\n",
    "\n",
    "\n"
   ]
  }
 ],
 "metadata": {
  "kernelspec": {
   "display_name": "Python 3",
   "language": "python",
   "name": "python3"
  },
  "language_info": {
   "codemirror_mode": {
    "name": "ipython",
    "version": 3
   },
   "file_extension": ".py",
   "mimetype": "text/x-python",
   "name": "python",
   "nbconvert_exporter": "python",
   "pygments_lexer": "ipython3",
   "version": "3.11.0"
  }
 },
 "nbformat": 4,
 "nbformat_minor": 2
}
